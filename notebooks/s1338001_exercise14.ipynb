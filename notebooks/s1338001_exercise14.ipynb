{
 "cells": [
  {
   "cell_type": "code",
   "execution_count": 2,
   "id": "347435c1-2b1d-41a0-8c76-7dc6824b7861",
   "metadata": {},
   "outputs": [
    {
     "name": "stdout",
     "output_type": "stream",
     "text": [
      "Defaulting to user installation because normal site-packages is not writeable\n",
      "Looking in indexes: https://test.pypi.org/simple/, https://pypi.org/simple\n",
      "Requirement already satisfied: s1338001_learn in /home/s1338001/.local/lib/python3.10/site-packages (0.0.3)\n",
      "Requirement already satisfied: pami in /home/s1338001/.local/lib/python3.10/site-packages (from s1338001_learn) (2025.7.3.1)\n",
      "Requirement already satisfied: resource in /home/s1338001/.local/lib/python3.10/site-packages (from pami->s1338001_learn) (0.2.1)\n",
      "Requirement already satisfied: validators in /home/s1338001/.local/lib/python3.10/site-packages (from pami->s1338001_learn) (0.35.0)\n",
      "Requirement already satisfied: deprecated in /home/s1338001/.local/lib/python3.10/site-packages (from pami->s1338001_learn) (1.2.18)\n",
      "Requirement already satisfied: plotly in /home/s1338001/.local/lib/python3.10/site-packages (from pami->s1338001_learn) (6.1.2)\n",
      "Requirement already satisfied: fastparquet in /home/s1338001/.local/lib/python3.10/site-packages (from pami->s1338001_learn) (2024.11.0)\n",
      "Requirement already satisfied: pandas in /home/s1338001/.local/lib/python3.10/site-packages (from pami->s1338001_learn) (2.3.0)\n",
      "Requirement already satisfied: sphinx in /home/s1338001/.local/lib/python3.10/site-packages (from pami->s1338001_learn) (8.1.3)\n",
      "Requirement already satisfied: urllib3 in /usr/lib/python3/dist-packages (from pami->s1338001_learn) (1.26.5)\n",
      "Requirement already satisfied: numpy in /home/s1338001/.local/lib/python3.10/site-packages (from pami->s1338001_learn) (2.2.6)\n",
      "Requirement already satisfied: sphinx-rtd-theme in /home/s1338001/.local/lib/python3.10/site-packages (from pami->s1338001_learn) (3.0.2)\n",
      "Requirement already satisfied: networkx in /home/s1338001/.local/lib/python3.10/site-packages (from pami->s1338001_learn) (3.4.2)\n",
      "Requirement already satisfied: psutil in /home/s1338001/.local/lib/python3.10/site-packages (from pami->s1338001_learn) (7.0.0)\n",
      "Requirement already satisfied: Pillow in /home/s1338001/.local/lib/python3.10/site-packages (from pami->s1338001_learn) (11.2.1)\n",
      "Requirement already satisfied: matplotlib in /home/s1338001/.local/lib/python3.10/site-packages (from pami->s1338001_learn) (3.10.3)\n",
      "Requirement already satisfied: discord.py in /home/s1338001/.local/lib/python3.10/site-packages (from pami->s1338001_learn) (2.5.2)\n",
      "Requirement already satisfied: wrapt<2,>=1.10 in /home/s1338001/.local/lib/python3.10/site-packages (from deprecated->pami->s1338001_learn) (1.17.2)\n",
      "Requirement already satisfied: aiohttp<4,>=3.7.4 in /home/s1338001/.local/lib/python3.10/site-packages (from discord.py->pami->s1338001_learn) (3.12.11)\n",
      "Requirement already satisfied: cramjam>=2.3 in /home/s1338001/.local/lib/python3.10/site-packages (from fastparquet->pami->s1338001_learn) (2.10.0)\n",
      "Requirement already satisfied: fsspec in /home/s1338001/.local/lib/python3.10/site-packages (from fastparquet->pami->s1338001_learn) (2025.5.1)\n",
      "Requirement already satisfied: packaging in /home/s1338001/.local/lib/python3.10/site-packages (from fastparquet->pami->s1338001_learn) (25.0)\n",
      "Requirement already satisfied: python-dateutil>=2.8.2 in /home/s1338001/.local/lib/python3.10/site-packages (from pandas->pami->s1338001_learn) (2.9.0.post0)\n",
      "Requirement already satisfied: tzdata>=2022.7 in /home/s1338001/.local/lib/python3.10/site-packages (from pandas->pami->s1338001_learn) (2025.2)\n",
      "Requirement already satisfied: pytz>=2020.1 in /usr/lib/python3/dist-packages (from pandas->pami->s1338001_learn) (2022.1)\n",
      "Requirement already satisfied: fonttools>=4.22.0 in /home/s1338001/.local/lib/python3.10/site-packages (from matplotlib->pami->s1338001_learn) (4.58.2)\n",
      "Requirement already satisfied: contourpy>=1.0.1 in /home/s1338001/.local/lib/python3.10/site-packages (from matplotlib->pami->s1338001_learn) (1.3.2)\n",
      "Requirement already satisfied: kiwisolver>=1.3.1 in /home/s1338001/.local/lib/python3.10/site-packages (from matplotlib->pami->s1338001_learn) (1.4.8)\n",
      "Requirement already satisfied: cycler>=0.10 in /home/s1338001/.local/lib/python3.10/site-packages (from matplotlib->pami->s1338001_learn) (0.12.1)\n",
      "Requirement already satisfied: pyparsing>=2.3.1 in /usr/lib/python3/dist-packages (from matplotlib->pami->s1338001_learn) (2.4.7)\n",
      "Requirement already satisfied: narwhals>=1.15.1 in /home/s1338001/.local/lib/python3.10/site-packages (from plotly->pami->s1338001_learn) (1.41.1)\n",
      "Requirement already satisfied: JsonSir>=0.0.2 in /home/s1338001/.local/lib/python3.10/site-packages (from resource->pami->s1338001_learn) (0.0.2)\n",
      "Requirement already satisfied: python-easyconfig>=0.1.0 in /home/s1338001/.local/lib/python3.10/site-packages (from resource->pami->s1338001_learn) (0.1.7)\n",
      "Requirement already satisfied: JsonForm>=0.0.2 in /home/s1338001/.local/lib/python3.10/site-packages (from resource->pami->s1338001_learn) (0.0.2)\n",
      "Requirement already satisfied: Pygments>=2.17 in /home/s1338001/.local/lib/python3.10/site-packages (from sphinx->pami->s1338001_learn) (2.19.1)\n",
      "Requirement already satisfied: babel>=2.13 in /home/s1338001/.local/lib/python3.10/site-packages (from sphinx->pami->s1338001_learn) (2.17.0)\n",
      "Requirement already satisfied: imagesize>=1.3 in /home/s1338001/.local/lib/python3.10/site-packages (from sphinx->pami->s1338001_learn) (1.4.1)\n",
      "Requirement already satisfied: sphinxcontrib-applehelp>=1.0.7 in /home/s1338001/.local/lib/python3.10/site-packages (from sphinx->pami->s1338001_learn) (2.0.0)\n",
      "Requirement already satisfied: tomli>=2 in /home/s1338001/.local/lib/python3.10/site-packages (from sphinx->pami->s1338001_learn) (2.2.1)\n",
      "Requirement already satisfied: snowballstemmer>=2.2 in /home/s1338001/.local/lib/python3.10/site-packages (from sphinx->pami->s1338001_learn) (3.0.1)\n",
      "Requirement already satisfied: sphinxcontrib-devhelp>=1.0.6 in /home/s1338001/.local/lib/python3.10/site-packages (from sphinx->pami->s1338001_learn) (2.0.0)\n",
      "Requirement already satisfied: docutils<0.22,>=0.20 in /home/s1338001/.local/lib/python3.10/site-packages (from sphinx->pami->s1338001_learn) (0.21.2)\n",
      "Requirement already satisfied: alabaster>=0.7.14 in /home/s1338001/.local/lib/python3.10/site-packages (from sphinx->pami->s1338001_learn) (1.0.0)\n",
      "Requirement already satisfied: Jinja2>=3.1 in /home/s1338001/.local/lib/python3.10/site-packages (from sphinx->pami->s1338001_learn) (3.1.6)\n",
      "Requirement already satisfied: sphinxcontrib-qthelp>=1.0.6 in /home/s1338001/.local/lib/python3.10/site-packages (from sphinx->pami->s1338001_learn) (2.0.0)\n",
      "Requirement already satisfied: requests>=2.30.0 in /home/s1338001/.local/lib/python3.10/site-packages (from sphinx->pami->s1338001_learn) (2.32.3)\n",
      "Requirement already satisfied: sphinxcontrib-serializinghtml>=1.1.9 in /home/s1338001/.local/lib/python3.10/site-packages (from sphinx->pami->s1338001_learn) (2.0.0)\n",
      "Requirement already satisfied: sphinxcontrib-jsmath>=1.0.1 in /home/s1338001/.local/lib/python3.10/site-packages (from sphinx->pami->s1338001_learn) (1.0.1)\n",
      "Requirement already satisfied: sphinxcontrib-htmlhelp>=2.0.6 in /home/s1338001/.local/lib/python3.10/site-packages (from sphinx->pami->s1338001_learn) (2.1.0)\n",
      "Requirement already satisfied: sphinxcontrib-jquery<5,>=4 in /home/s1338001/.local/lib/python3.10/site-packages (from sphinx-rtd-theme->pami->s1338001_learn) (4.1)\n",
      "Requirement already satisfied: frozenlist>=1.1.1 in /home/s1338001/.local/lib/python3.10/site-packages (from aiohttp<4,>=3.7.4->discord.py->pami->s1338001_learn) (1.6.2)\n",
      "Requirement already satisfied: aiohappyeyeballs>=2.5.0 in /home/s1338001/.local/lib/python3.10/site-packages (from aiohttp<4,>=3.7.4->discord.py->pami->s1338001_learn) (2.6.1)\n",
      "Requirement already satisfied: attrs>=17.3.0 in /usr/lib/python3/dist-packages (from aiohttp<4,>=3.7.4->discord.py->pami->s1338001_learn) (21.2.0)\n",
      "Requirement already satisfied: yarl<2.0,>=1.17.0 in /home/s1338001/.local/lib/python3.10/site-packages (from aiohttp<4,>=3.7.4->discord.py->pami->s1338001_learn) (1.20.0)\n",
      "Requirement already satisfied: aiosignal>=1.1.2 in /home/s1338001/.local/lib/python3.10/site-packages (from aiohttp<4,>=3.7.4->discord.py->pami->s1338001_learn) (1.3.2)\n",
      "Requirement already satisfied: propcache>=0.2.0 in /home/s1338001/.local/lib/python3.10/site-packages (from aiohttp<4,>=3.7.4->discord.py->pami->s1338001_learn) (0.3.1)\n",
      "Requirement already satisfied: async-timeout<6.0,>=4.0 in /home/s1338001/.local/lib/python3.10/site-packages (from aiohttp<4,>=3.7.4->discord.py->pami->s1338001_learn) (5.0.1)\n",
      "Requirement already satisfied: multidict<7.0,>=4.5 in /home/s1338001/.local/lib/python3.10/site-packages (from aiohttp<4,>=3.7.4->discord.py->pami->s1338001_learn) (6.4.4)\n",
      "Requirement already satisfied: MarkupSafe>=2.0 in /usr/lib/python3/dist-packages (from Jinja2>=3.1->sphinx->pami->s1338001_learn) (2.0.1)\n",
      "Requirement already satisfied: jsonschema in /usr/lib/python3/dist-packages (from JsonForm>=0.0.2->resource->pami->s1338001_learn) (3.2.0)\n",
      "Requirement already satisfied: six>=1.5 in /usr/lib/python3/dist-packages (from python-dateutil>=2.8.2->pandas->pami->s1338001_learn) (1.16.0)\n",
      "Requirement already satisfied: PyYAML in /usr/lib/python3/dist-packages (from python-easyconfig>=0.1.0->resource->pami->s1338001_learn) (5.4.1)\n",
      "Requirement already satisfied: charset-normalizer<4,>=2 in /home/s1338001/.local/lib/python3.10/site-packages (from requests>=2.30.0->sphinx->pami->s1338001_learn) (3.4.2)\n",
      "Requirement already satisfied: certifi>=2017.4.17 in /usr/lib/python3/dist-packages (from requests>=2.30.0->sphinx->pami->s1338001_learn) (2020.6.20)\n",
      "Requirement already satisfied: idna<4,>=2.5 in /usr/lib/python3/dist-packages (from requests>=2.30.0->sphinx->pami->s1338001_learn) (3.3)\n",
      "Requirement already satisfied: typing-extensions>=4.1.0 in /home/s1338001/.local/lib/python3.10/site-packages (from multidict<7.0,>=4.5->aiohttp<4,>=3.7.4->discord.py->pami->s1338001_learn) (4.14.0)\n"
     ]
    }
   ],
   "source": [
    "!pip install --index-url https://test.pypi.org/simple/ --extra-index-url https://pypi.org/simple s1338001_learn\n"
   ]
  },
  {
   "cell_type": "code",
   "execution_count": 3,
   "id": "faa7b26c-d014-49d5-8dd7-47ac05b0f2e8",
   "metadata": {},
   "outputs": [
    {
     "name": "stdout",
     "output_type": "stream",
     "text": [
      "Name: s1338001_learn\n",
      "Version: 0.0.3\n",
      "Summary: Learning package example for PyPI\n",
      "Home-page: https://github.com/s1338001/s1338001_learn\n",
      "Author: s1338001\n",
      "Author-email: s1338001@u-aizu.ac.jp\n",
      "License: MIT\n",
      "Location: /home/s1338001/.local/lib/python3.10/site-packages\n",
      "Requires: pami\n",
      "Required-by: \n"
     ]
    }
   ],
   "source": [
    "!pip show s1338001_learn"
   ]
  },
  {
   "cell_type": "code",
   "execution_count": null,
   "id": "b4e4c5e6-d7a5-4884-9d97-ff853f8ebb15",
   "metadata": {},
   "outputs": [],
   "source": []
  }
 ],
 "metadata": {
  "kernelspec": {
   "display_name": "Python 3 (ipykernel)",
   "language": "python",
   "name": "python3"
  },
  "language_info": {
   "codemirror_mode": {
    "name": "ipython",
    "version": 3
   },
   "file_extension": ".py",
   "mimetype": "text/x-python",
   "name": "python",
   "nbconvert_exporter": "python",
   "pygments_lexer": "ipython3",
   "version": "3.12.7"
  }
 },
 "nbformat": 4,
 "nbformat_minor": 5
}
